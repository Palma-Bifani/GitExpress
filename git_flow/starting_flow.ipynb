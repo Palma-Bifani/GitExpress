{
 "cells": [
  {
   "cell_type": "markdown",
   "metadata": {},
   "source": [
    "# Version Control\n",
    "\n",
    "# **Small and fast** git and GitHub tutorial\n",
    "\n",
    "### Trace changes and even **travel back in time**\n",
    "\n",
    "@Author: Paulina Palma-Bifani\n",
    "\n",
    "***\n",
    "***"
   ]
  },
  {
   "cell_type": "markdown",
   "metadata": {},
   "source": [
    "#### Where/ When can you use it?\n",
    "- Writing (Overleaf)\n",
    "- Personal projects (Webpages)\n",
    "- Research\n",
    "- Connect multiple servers \n",
    "- Groupe projects\n",
    "- Teaching \n",
    "- ..."
   ]
  },
  {
   "cell_type": "markdown",
   "metadata": {},
   "source": [
    "#### Resources: \n",
    "- [\"Version Control for Fun and Profit\"](https://nbviewer.jupyter.org/github/fperez/reprosw/raw/master/Version%20Control.ipynb)\n",
    "- [LSST DSFP Session 1: Hands-on introduction to git](https://github.com/jakevdp/git-intro/blob/master/git-intro.ipynb)\n",
    "- [ProGit - Scott Chacon and Ben Straub](https://git-scm.com/book/en/v2)\n",
    "- [Science and Commit](https://github.com/Science-and-Commit/Workshop_2022)"
   ]
  },
  {
   "cell_type": "markdown",
   "metadata": {},
   "source": [
    "#### Index:\n",
    "\n",
    "- 1/ Instalation\n",
    "\n",
    "- 2/ Concepts\n",
    "\n",
    "- 3/ Local Workflow\n",
    "\n",
    "- 4/ Branch\n",
    "\n",
    "- 5/ Remote Workflow\n",
    "\n",
    "- 6/ Conflicts\n",
    "\n",
    "- 7/ Group Projects\n",
    "\n",
    "***\n",
    "***\n"
   ]
  },
  {
   "cell_type": "markdown",
   "metadata": {},
   "source": [
    "#### 1/ Instalation\n",
    "\n",
    "\n",
    "- **Linux**:\n",
    "  - Ubuntu: ```$ sudo apt-get install git-all```\n",
    "  - Fedora: ```$ sudo dnf install git-all```\n",
    "\n",
    "- **OS X**:\n",
    "  - Xcode Command Line Tools: ```$ git --version```\n",
    "  - [Homebrew](https://brew.sh/): ```$ brew install git``` \n",
    "  - [Desktop app](https://desktop.github.com/)\n",
    "\n",
    "- **Windows**:\n",
    "  - [Download](https://git-scm.com/download/win) from the project [Git for Windows](https://gitforwindows.org)\n",
    "  - [Desktop app](https://desktop.github.com/)\n",
    "\n",
    "(This may change over time)\n",
    "\n",
    "**Setup:**\n",
    "\n",
    "(Create a GitHub account [here](https://github.com/))\n",
    "\n",
    "To check your configuration: `$ git config --list --show-origin`\n",
    "\n",
    "First, give your identity to Git, this information is used for the «commits».\n",
    "\n",
    "In the terminal do:\n",
    "\n",
    "`$ git config --global user.name \"your_GitHub_user_name\"`\n",
    "\n",
    "`$ git config --global user.email tuemail@ejemplo.com`\n",
    "\n",
    "`$ git config -l` (this to check if it was setup correctly)\n",
    "\n"
   ]
  },
  {
   "cell_type": "markdown",
   "metadata": {},
   "source": [
    "***\n",
    "\n",
    "#### 2/ Concepts\n",
    "\n",
    "A **commit** is a **screenshot** of our work in time (left image).\n",
    "\n",
    "A **repository** is a group of commits (right image).\n",
    "\n",
    "<img src=\"img/commit_anatomy.png\" alt=\"Drawing\" style=\"width: 420px;\"/>\n",
    "\n",
    "<img src=\"img/threecommits.png\" alt=\"Drawing\" style=\"width: 650px;\"/>\n",
    "\n",
    "A **hash** is the identity of a commit\n",
    "\n",
    "(Credit: ProGit de Scott Chacon, licencia CC)"
   ]
  },
  {
   "cell_type": "markdown",
   "metadata": {},
   "source": [
    "***\n",
    "\n",
    "#### 3/ Local Workflow\n",
    "\n",
    "`$ git` (To check out the git commands)"
   ]
  },
  {
   "cell_type": "markdown",
   "metadata": {},
   "source": [
    "##### Workflow\n",
    "\n",
    "Create a repository, add changes and commit. Open a terminal, **cd** to to a specific locatoion and write:\n",
    "\n",
    "- `$ git init` (Creates an empty repository)\n",
    "\n",
    "(You can clone a remote repository too, see section 5/.)\n",
    "\n",
    "Now we modify and/or add files. To keep track of the changes, inside the repository (in the terminal) write:\n",
    "\n",
    "- `$ git add *` (Inform to git about our new files)\n",
    "\n",
    "The symbol * is used to add everything but you can indicate specific files too\n",
    "\n",
    "- `$ git rm -rf file_name` (To delete, -rf if it is a directory)\n",
    "\n",
    "- `$ git status` (To check current status of the repository, this means files added, modified, deleted, ...)\n",
    "\n",
    "- `$ git commit -m \"message\"` (Generates the **screenshot** to permanently add our changes to the repository, the message is mandatory and should be short and descriptive)\n",
    "\n",
    "- `$ git log --oneline` (Show the history of commits, in one line if desire)\n",
    "\n",
    "- `$ git diff` (To compare 2 versions of a file)\n"
   ]
  },
  {
   "cell_type": "markdown",
   "metadata": {},
   "source": [
    "***\n",
    "\n",
    "#### 4/ Branches\n",
    "\n",
    "Name for a sequence of commits.\n",
    "\n",
    "HEAD localize the branch were we are actively working on. It moves always automatically to the latest commit. Branches can eventually diverge.\n",
    "\n",
    "<img src=\"img/mergescenario.png\" alt=\"Drawing\" style=\"width: 450px;\"/>\n",
    "\n",
    "<img src=\"img/HEAD_testing.png\" alt=\"Drawing\" style=\"width: 500px;\"/>\n",
    "\n",
    "\n",
    "- `$ git branch branch_name` (To create a new divergent branch)\n",
    "\n",
    "- `$ git checkout branch_name` (Swich to branch <branch_name>)\n",
    "\n",
    "The commits now will be saved following the branch, not master/main.\n",
    "\n",
    "- `$ git merge branch_name` (To return to only main/master branch)\n",
    "\n",
    "Git can calculate the necesary information to allow the branches to be merged again.\n",
    "\n",
    "![mergeafter](img/mergeaftermath.png)\n",
    "\n",
    "\n"
   ]
  },
  {
   "attachments": {},
   "cell_type": "markdown",
   "metadata": {},
   "source": [
    "***\n",
    "\n",
    "#### 5/ Remote Workflow\n",
    "\n",
    "Possible remote repository tools:\n",
    "- [GitHub.com](github.com)\n",
    "- [BitBucket](bitbucket.org) \n",
    "- [GitLab](gitlab.com)\n",
    "\n",
    "If you don't have a local repository, you can create a [new remote repository here](https://github.com/new). \n",
    "\n",
    "Copy the https url and clone it locally (see left image below).\n",
    "\n",
    "- `$ git clone https_url`\n",
    "\n",
    "For this to work you need a token (follow the right image below). You should keep this token somewhere safe. You can also create a new one every time you need it.\n",
    "\n",
    "<img src=\"img/git_clone.png\" alt=\"Drawing\" style=\"width: 400px;\"/>\n",
    "\n",
    "<img src=\"img/token.png\" alt=\"Drawing\" style=\"width: 600px;\"/>\n",
    "\n",
    "\n",
    "Other commands:\n",
    "\n",
    "- `$ git remote -v` (to check remote repository url from your terminal)\n",
    "\n",
    "- `$ git remote add origin url_for_remote_repository` (to define the url to a local repository by hand)\n",
    "\n",
    "**Very important commands:**\n",
    "\n",
    "To syncronize changes from local to remote:\n",
    "\n",
    "- `$ git push`\n",
    "\n",
    "Download changes from remote to local (Maybe someone else edited the code):\n",
    "\n",
    "- `$ git pull`\n",
    "\n",
    "\n",
    "\n",
    "**Classical Workflow:** \n",
    "- `$ git pull`\n",
    "- `$ git add *`\n",
    "- `$ git status`\n",
    "- `$ git commit -m \" \"`\n",
    "- `$ git push`\n",
    "\n",
    "\n",
    "**Usful recomendations:**\n",
    "\n",
    "You can create a `.gitignore` file inside your repository to avoid keeping track of specific types of files. [More info here](https://www.w3schools.com/git/git_ignore.asp?remote=github).\n"
   ]
  },
  {
   "cell_type": "markdown",
   "metadata": {},
   "source": [
    "***\n",
    "\n",
    "#### 6/ Conflicts\n",
    "\n",
    "**Merge/Push conflicts:**\n",
    "\n",
    "If 2 branches modify the same file or if 2 persons work on same file you will probably have merge issues. Which change should stay?\n",
    "\n",
    "Usually you will need to edit the conflict file by hand to decide which change to keep.\n",
    "\n",
    "(There is plenty of info online and git has good error messages and suggestions)\n",
    "\n",
    "\n",
    "**The issues:**\n",
    "\n",
    "A very nice feature of the remote version un GitHub are the issues. This serves for any user to ask questions or for the developer to keep track of code status. This helps to solve bugs and as interaction between developer and users. \n",
    "\n",
    "<img src=\"img/issue.png\" alt=\"Drawing\" style=\"width: 700px;\"/>\n"
   ]
  },
  {
   "cell_type": "markdown",
   "metadata": {},
   "source": [
    "***\n",
    "\n",
    "#### 7/ Group projects\n",
    "\n"
   ]
  },
  {
   "cell_type": "markdown",
   "metadata": {},
   "source": [
    "You can have an **organization** where the whole groupe can contribute, keep track of their progress and colaborate.\n",
    "\n"
   ]
  }
 ],
 "metadata": {
  "kernelspec": {
   "display_name": "Python 3.8.9 64-bit",
   "language": "python",
   "name": "python3"
  },
  "language_info": {
   "codemirror_mode": {
    "name": "ipython",
    "version": 3
   },
   "file_extension": ".py",
   "mimetype": "text/x-python",
   "name": "python",
   "nbconvert_exporter": "python",
   "pygments_lexer": "ipython3",
   "version": "3.8.9"
  },
  "vscode": {
   "interpreter": {
    "hash": "31f2aee4e71d21fbe5cf8b01ff0e069b9275f58929596ceb00d14d90e3e16cd6"
   }
  }
 },
 "nbformat": 4,
 "nbformat_minor": 4
}
