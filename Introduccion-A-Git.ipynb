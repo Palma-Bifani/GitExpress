{
 "cells": [
  {
   "cell_type": "markdown",
   "metadata": {},
   "source": [
    "# Control of versions:\n",
    "\n",
    "Trace changes and allows to **go back in time**\n",
    "\n",
    "***"
   ]
  },
  {
   "cell_type": "markdown",
   "metadata": {},
   "source": [
    "#### Where/ When can you use it?\n",
    "- Writing (Overleaf)\n",
    "- Personal projects (Webpages)\n",
    "- Research\n",
    "- Multiple servers workflow\n",
    "- Group projects\n",
    "- Teaching \n",
    "- ..."
   ]
  },
  {
   "cell_type": "markdown",
   "metadata": {},
   "source": [
    "#### Resources: \n",
    "- [\"Version Control for Fun and Profit\"](https://nbviewer.jupyter.org/github/fperez/reprosw/raw/master/Version%20Control.ipynb)\n",
    "- [LSST DSFP Session 1: Hands-on introduction to git](https://github.com/jakevdp/git-intro/blob/master/git-intro.ipynb)\n",
    "- [ProGit - Scott Chacon and Ben Straub](https://git-scm.com/book/en/v2)\n",
    "- [Science and Commit](https://github.com/Science-and-Commit/Workshop_2022)"
   ]
  },
  {
   "cell_type": "markdown",
   "metadata": {},
   "source": [
    "#### Topics:\n",
    "\n",
    "- 1/ Instalation\n",
    "\n",
    "- 2/ Concepts\n",
    "\n",
    "- 3/ Local Workflow\n",
    "\n",
    "- 4/ Branch\n",
    "\n",
    "- 5/ Remote Workflow\n",
    "\n",
    "- 6/ Conflicts\n",
    "\n",
    "- 7/ Group Projects\n",
    "\n",
    "***"
   ]
  },
  {
   "cell_type": "markdown",
   "metadata": {},
   "source": [
    "#### 1/ Instalation\n",
    "\n",
    "\n",
    "**Linux**\n",
    "- Ubuntu: ```$ sudo apt-get install git-all```\n",
    "- Fedora: ```$ sudo dnf install git-all```\n",
    "\n",
    "**OS X**\n",
    "- Xcode Command Line Tools: ```$ git --version```\n",
    "- [Homebrew](https://brew.sh/): ```$ brew install git``` \n",
    "- [Desktop app](https://desktop.github.com/)\n",
    "\n",
    "**Windows**\n",
    "- [Download](https://git-scm.com/download/win) from the project [Git for Windows](https://gitforwindows.org)\n",
    "- [Desktop app](https://desktop.github.com/)\n",
    "\n",
    "(This may change over time)\n",
    "\n",
    "**Setup:**\n",
    "\n",
    "To check your configuration: `$ git config --list --show-origin`\n",
    "\n",
    "First, give your identity to Git, this information is used for the «commits».\n",
    "\n",
    "In the terminal do:\n",
    "```\n",
    "$ git config --global user.name \"Nombre Apellido\"\n",
    "$ git config --global user.email tuemail@ejemplo.com\n",
    "```\n"
   ]
  },
  {
   "cell_type": "markdown",
   "metadata": {},
   "source": [
    "***\n",
    "\n",
    "#### 2/ Concepts\n",
    "\n",
    "A **commit** is a **screenshot** of our work in time.\n",
    "\n",
    "![A commit](img/commit_anatomy.png \"A commit\")\n",
    "\n",
    "A **repository** is a group of commits\n",
    "\n",
    "![Un repositorio](img/threecommits.png \"Un repositorio\")\n",
    "\n",
    "A **hash** is the identity of a commit\n",
    "\n",
    "(Credit: ProGit de Scott Chacon, licencia CC)"
   ]
  },
  {
   "cell_type": "markdown",
   "metadata": {},
   "source": [
    "***\n",
    "\n",
    "#### 3/ Local Workflow\n",
    "\n",
    "Check out the available /git commands"
   ]
  },
  {
   "cell_type": "code",
   "execution_count": 4,
   "metadata": {},
   "outputs": [
    {
     "name": "stdout",
     "output_type": "stream",
     "text": [
      "usage: git [--version] [--help] [-C <path>] [-c <name>=<value>]\n",
      "           [--exec-path[=<path>]] [--html-path] [--man-path] [--info-path]\n",
      "           [-p | --paginate | -P | --no-pager] [--no-replace-objects] [--bare]\n",
      "           [--git-dir=<path>] [--work-tree=<path>] [--namespace=<name>]\n",
      "           [--super-prefix=<path>] [--config-env=<name>=<envvar>]\n",
      "           <command> [<args>]\n",
      "\n",
      "These are common Git commands used in various situations:\n",
      "\n",
      "start a working area (see also: git help tutorial)\n",
      "   clone             Clone a repository into a new directory\n",
      "   init              Create an empty Git repository or reinitialize an existing one\n",
      "\n",
      "work on the current change (see also: git help everyday)\n",
      "   add               Add file contents to the index\n",
      "   mv                Move or rename a file, a directory, or a symlink\n",
      "   restore           Restore working tree files\n",
      "   rm                Remove files from the working tree and from the index\n",
      "   sparse-checkout   Initialize and modify the sparse-checkout\n",
      "\n",
      "examine the history and state (see also: git help revisions)\n",
      "   bisect            Use binary search to find the commit that introduced a bug\n",
      "   diff              Show changes between commits, commit and working tree, etc\n",
      "   grep              Print lines matching a pattern\n",
      "   log               Show commit logs\n",
      "   show              Show various types of objects\n",
      "   status            Show the working tree status\n",
      "\n",
      "grow, mark and tweak your common history\n",
      "   branch            List, create, or delete branches\n",
      "   commit            Record changes to the repository\n",
      "   merge             Join two or more development histories together\n",
      "   rebase            Reapply commits on top of another base tip\n",
      "   reset             Reset current HEAD to the specified state\n",
      "   switch            Switch branches\n",
      "   tag               Create, list, delete or verify a tag object signed with GPG\n",
      "\n",
      "collaborate (see also: git help workflows)\n",
      "   fetch             Download objects and refs from another repository\n",
      "   pull              Fetch from and integrate with another repository or a local branch\n",
      "   push              Update remote refs along with associated objects\n",
      "\n",
      "'git help -a' and 'git help -g' list available subcommands and some\n",
      "concept guides. See 'git help <command>' or 'git help <concept>'\n",
      "to read about a specific subcommand or concept.\n",
      "See 'git help git' for an overview of the system.\n"
     ]
    }
   ],
   "source": [
    "!git"
   ]
  },
  {
   "cell_type": "markdown",
   "metadata": {},
   "source": [
    "##### Workflow\n",
    "\n",
    "Create a repository, add changes and commit. Open a terminal, **cd** to to a specific locatoion and write:\n",
    "\n",
    "- `$ git init` (Creates an empty repository)\n",
    "\n",
    "(You can clone a remote repository too, see section 5/.)\n",
    "\n",
    "Now we modify and/or add files. To keep track of the changes, inside the repository (in the terminal) write:\n",
    "\n",
    "- `$ git add *` (Inform to git about our new files)\n",
    "\n",
    "The symbol * is used to add everything but you can indicate specific files too\n",
    "\n",
    "- `$ git rm -rf <file_name>` (To delete, -rf if it is a directory)\n",
    "\n",
    "- `$ git status` (To check current status of the repository, this means files added, modified, deleted, ...)\n",
    "\n",
    "- `$ git commit -m \"<message>\"` (Generates the **screenshot** to permanently add our changes to the repository, the message is mandatory and should be short and descriptive)\n",
    "\n",
    "- `$ git log --oneline` (Show the history of commits, in one line if desire)\n",
    "\n",
    "- `$ git diff` (To compare 2 versions of a file)\n"
   ]
  },
  {
   "cell_type": "markdown",
   "metadata": {},
   "source": [
    "***\n",
    "\n",
    "#### 4/ Branches\n",
    "\n",
    "Name for a sequence of commits.\n",
    "\n",
    "HEAD localize the branch were we are actively working on. It moves always automatically to the latest commit.\n",
    "\n",
    "![head test](img/HEAD_testing.png)\n",
    "\n",
    "Branches can eventually diverge\n",
    "\n",
    "![merge](img/mergescenario.png)\n",
    "\n",
    "\n",
    "\n",
    "- `$ git branch <branch_name>` (To create a new divergent branch)\n",
    "\n",
    "- `$ git checkout <branch_name>` (Swich to branch <branch_name>)\n",
    "\n",
    "The commits now will be saved following the branch, not master/main.\n",
    "\n",
    "- `$ git merge <branch_name>` (To return to only main/master branch)\n",
    "\n",
    "Git can calculate the necesary information to allow the branches to be merged again.\n",
    "\n",
    "![mergeafter](img/mergeaftermath.png)\n",
    "\n",
    "\n"
   ]
  },
  {
   "cell_type": "markdown",
   "metadata": {},
   "source": [
    "***\n",
    "\n",
    "#### 5/ Remote Workflow\n",
    "\n",
    "Possible remote repository tools:\n",
    "- [GitHub.com](github.com)\n",
    "- [BitBucket](bitbucket.org) \n",
    "- [GitLab](gitlab.com)\n",
    "\n",
    "(Create a GitHub account [here](https://github.com/))\n",
    "\n",
    "\n",
    "If you don't have a local one, go to GitHub, [new repository](https://github.com/new) and create a remote one. This work \n",
    "\n",
    "- `$ git clone <link>`\n",
    "\n",
    "You can get the link from here.\n",
    "![clone](img/git_clone.png)\n",
    "\n",
    "For this to work you need a token. To get it follow the image. You should keep this token somewhere safe, since in GitHub you can only see it once.\n",
    "\n",
    "![clone](img/token.png)\n",
    "\n",
    "- `$ git remote -v` (to check remote repository url)\n",
    "\n",
    "- `$ git remote add origin <https://github.com/jvines/test.git>` (to define/give the url to a local repository by hand)\n",
    "\n",
    "To syncronize information/changes from local to remote:\n",
    "\n",
    "- `$ git push`\n",
    "\n",
    "Download information/changes from remote to local:\n",
    "\n",
    "- `$ git pull`\n",
    "\n",
    "A very nice feature of the remote version un GitHub are the issues. This serves for any user to ask questions or for the developer to keep a to-do list. \n",
    "\n",
    "![issue](img/issue.png)\n",
    "\n",
    "\n",
    "**Classical Workflow**: \n",
    "- `$ git pull`\n",
    "- `$ git add *`\n",
    "- `$ git status`\n",
    "- `$ git commit -m \" \"`\n",
    "- `$ git push`"
   ]
  },
  {
   "cell_type": "markdown",
   "metadata": {},
   "source": [
    "***\n",
    "\n",
    "#### 6/ Conflicts\n",
    "\n",
    "If 2 brances modify the same file or if 2 persons work on same file you will probably have merge issues. Which change should stay?\n",
    "\n",
    "Usually you will need to edit the conflict file by hand to decide which change to keep.\n",
    "\n",
    "(There is plenty of info online and git has good error messages and suggestions)"
   ]
  },
  {
   "cell_type": "markdown",
   "metadata": {},
   "source": [
    "***\n",
    "\n",
    "#### 7/ Group projects\n",
    "\n"
   ]
  },
  {
   "cell_type": "markdown",
   "metadata": {},
   "source": [
    "You can have an organization where the whole groupe can contribute, keep track of their progress and colaborate.\n",
    "\n"
   ]
  }
 ],
 "metadata": {
  "kernelspec": {
   "display_name": "Python 3.8.9 64-bit",
   "language": "python",
   "name": "python3"
  },
  "language_info": {
   "codemirror_mode": {
    "name": "ipython",
    "version": 3
   },
   "file_extension": ".py",
   "mimetype": "text/x-python",
   "name": "python",
   "nbconvert_exporter": "python",
   "pygments_lexer": "ipython3",
   "version": "3.8.9"
  },
  "vscode": {
   "interpreter": {
    "hash": "31f2aee4e71d21fbe5cf8b01ff0e069b9275f58929596ceb00d14d90e3e16cd6"
   }
  }
 },
 "nbformat": 4,
 "nbformat_minor": 4
}
