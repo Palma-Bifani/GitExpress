{
 "cells": [
  {
   "cell_type": "markdown",
   "metadata": {},
   "source": [
    "# RTD: Read The Docs\n",
    "\n",
    "This was taken from [Code/Astro](https://github.com/semaphoreP/codeastro/tree/main/Day3/tutorial_doc)"
   ]
  },
  {
   "cell_type": "markdown",
   "metadata": {},
   "source": [
    "## Python docstrings\n",
    "\n",
    "A docstring is a string that provides an overview of a function purpose, a description of the input variables it expects, and an explanation of the outputs produced. \n",
    "\n",
    "There are several common styles of python docstrings (see examples\n",
    "[here](https://betterprogramming.pub/3-different-docstring-formats-for-python-d27be81e0d68)). \n",
    "\n",
    "For different google-type docstrigs depending on your functions you can check [here](https://sphinxcontrib-napoleon.readthedocs.io/en/latest/example_google.html)\n",
    "\n",
    "You need to add docstrings to all your package functions before building an automatic API documentation. \n",
    "\n",
    "\n",
    "## SPHINX\n",
    "\n",
    "Docstrings provide a standardized way to document code that can be easily parsed by automated documentation tools, like [sphinx](https://www.sphinx-doc.org/en/master/). \n",
    "\n",
    "To initialize the documentation, start by making a docs directory in your repo. Then run:"
   ]
  },
  {
   "cell_type": "code",
   "execution_count": null,
   "metadata": {},
   "outputs": [],
   "source": [
    "$ mkdir docs\n",
    "$ cd docs\n",
    "$ sphinx-quickstart"
   ]
  },
  {
   "cell_type": "markdown",
   "metadata": {},
   "source": [
    "Answer the questions when prompted on the terminal. \n",
    "\n",
    "- Separate source and build directories?. (Answer = `n`)\n",
    "\n",
    "This should create several files and directories in your docs directory:"
   ]
  },
  {
   "cell_type": "code",
   "execution_count": null,
   "metadata": {},
   "outputs": [],
   "source": [
    "$ ls\n",
    "Makefile   _build     _static    _templates conf.py    index.rst  make.bat"
   ]
  },
  {
   "cell_type": "markdown",
   "metadata": {},
   "source": [
    "You will need to edit several arguments inside conf.py. Check other python packages for reference. \n",
    "\n",
    "Once it's done, you can build the html files with "
   ]
  },
  {
   "cell_type": "code",
   "execution_count": null,
   "metadata": {},
   "outputs": [],
   "source": [
    "$ make html"
   ]
  },
  {
   "cell_type": "markdown",
   "metadata": {},
   "source": [
    "This will create a basic set of documentation pages in _build/html. \n",
    "Open up the index.html with your favorite browser.\n",
    "\n",
    "\n",
    "Until now, you only have set-up the docs, but the content of these pages are controlled by the `.rst` (reStructured text) files.\n",
    "\n",
    "You need to point to the package and can create several different pages with installation instructions, demos, etc... (have fun!)\n"
   ]
  },
  {
   "cell_type": "markdown",
   "metadata": {},
   "source": [
    "Once everything is ready, update everything to github and import your package manually to read the docs, where you can build the rtd page automatically. "
   ]
  },
  {
   "cell_type": "markdown",
   "metadata": {},
   "source": []
  }
 ],
 "metadata": {
  "language_info": {
   "name": "python"
  }
 },
 "nbformat": 4,
 "nbformat_minor": 2
}
